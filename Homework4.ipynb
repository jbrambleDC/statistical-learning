{
 "cells": [
  {
   "cell_type": "markdown",
   "metadata": {},
   "source": [
    "# Jordan Bramble"
   ]
  },
  {
   "cell_type": "markdown",
   "metadata": {},
   "source": [
    "## Homework 4"
   ]
  },
  {
   "cell_type": "markdown",
   "metadata": {},
   "source": [
    "### 5.4 Problem 3"
   ]
  },
  {
   "cell_type": "markdown",
   "metadata": {},
   "source": [
    "#### a. "
   ]
  },
  {
   "cell_type": "markdown",
   "metadata": {},
   "source": [
    "K-Fold cross validation is performed by taking a set of training data and splitting it into K overlapping groups. Then each group is sued for validation and the MSE is averaged over the K-Folds"
   ]
  },
  {
   "cell_type": "markdown",
   "metadata": {},
   "source": [
    "#### b."
   ]
  },
  {
   "cell_type": "markdown",
   "metadata": {},
   "source": [
    "i. Validation set may overestimate error of model fit on full data. Error rate can have high variability. However this is simplest to implement.\n",
    "\n",
    "ii. LOOCV is computationaly expensive, however it has lowest bias."
   ]
  },
  {
   "cell_type": "markdown",
   "metadata": {},
   "source": [
    "### 5.4 Problem 5"
   ]
  },
  {
   "cell_type": "code",
   "execution_count": 6,
   "metadata": {
    "collapsed": false
   },
   "outputs": [
    {
     "data": {
      "text/plain": [
       " default    student       balance           income     \n",
       " No :9667   No :7056   Min.   :   0.0   Min.   :  772  \n",
       " Yes: 333   Yes:2944   1st Qu.: 481.7   1st Qu.:21340  \n",
       "                       Median : 823.6   Median :34553  \n",
       "                       Mean   : 835.4   Mean   :33517  \n",
       "                       3rd Qu.:1166.3   3rd Qu.:43808  \n",
       "                       Max.   :2654.3   Max.   :73554  "
      ]
     },
     "execution_count": 6,
     "metadata": {},
     "output_type": "execute_result"
    }
   ],
   "source": [
    "library(ISLR)\n",
    "attach(Default)\n",
    "summary(Default)"
   ]
  },
  {
   "cell_type": "markdown",
   "metadata": {},
   "source": [
    "#### a. "
   ]
  },
  {
   "cell_type": "code",
   "execution_count": 9,
   "metadata": {
    "collapsed": true
   },
   "outputs": [],
   "source": [
    "log.mod = glm(default ~ income + balance, data = Default, family = binomial)"
   ]
  },
  {
   "cell_type": "markdown",
   "metadata": {},
   "source": [
    "#### b."
   ]
  },
  {
   "cell_type": "code",
   "execution_count": 15,
   "metadata": {
    "collapsed": true
   },
   "outputs": [],
   "source": [
    "trainMod = function() {\n",
    "    trainData = sample(dim(Default)[1], dim(Default)[1]/2)\n",
    "    testData = Default[-trainData, ]\n",
    "    logMod = glm(default ~ income + balance, data = Default, family = binomial, \n",
    "        subset = trainData)\n",
    "    logPred = rep(\"No\", dim(Default)[1]/2)\n",
    "    logProbs = predict(logMod, testData, type = \"response\")\n",
    "    logPred[logProbs > 0.5] = \"Yes\"\n",
    "    return(mean(logPred != testData$default))\n",
    "}"
   ]
  },
  {
   "cell_type": "code",
   "execution_count": 16,
   "metadata": {
    "collapsed": false
   },
   "outputs": [
    {
     "data": {
      "text/html": [
       "0.0286"
      ],
      "text/latex": [
       "0.0286"
      ],
      "text/markdown": [
       "0.0286"
      ],
      "text/plain": [
       "[1] 0.0286"
      ]
     },
     "execution_count": 16,
     "metadata": {},
     "output_type": "execute_result"
    }
   ],
   "source": [
    "trainMod()"
   ]
  },
  {
   "cell_type": "markdown",
   "metadata": {},
   "source": [
    "#### c. "
   ]
  },
  {
   "cell_type": "code",
   "execution_count": 17,
   "metadata": {
    "collapsed": false
   },
   "outputs": [
    {
     "data": {
      "text/html": [
       "0.0282"
      ],
      "text/latex": [
       "0.0282"
      ],
      "text/markdown": [
       "0.0282"
      ],
      "text/plain": [
       "[1] 0.0282"
      ]
     },
     "execution_count": 17,
     "metadata": {},
     "output_type": "execute_result"
    }
   ],
   "source": [
    "trainMod()"
   ]
  },
  {
   "cell_type": "code",
   "execution_count": 18,
   "metadata": {
    "collapsed": false
   },
   "outputs": [
    {
     "data": {
      "text/html": [
       "0.025"
      ],
      "text/latex": [
       "0.025"
      ],
      "text/markdown": [
       "0.025"
      ],
      "text/plain": [
       "[1] 0.025"
      ]
     },
     "execution_count": 18,
     "metadata": {},
     "output_type": "execute_result"
    }
   ],
   "source": [
    "trainMod()"
   ]
  },
  {
   "cell_type": "code",
   "execution_count": 19,
   "metadata": {
    "collapsed": false
   },
   "outputs": [
    {
     "data": {
      "text/html": [
       "0.0264"
      ],
      "text/latex": [
       "0.0264"
      ],
      "text/markdown": [
       "0.0264"
      ],
      "text/plain": [
       "[1] 0.0264"
      ]
     },
     "execution_count": 19,
     "metadata": {},
     "output_type": "execute_result"
    }
   ],
   "source": [
    "trainMod()"
   ]
  },
  {
   "cell_type": "markdown",
   "metadata": {},
   "source": [
    "#### d. "
   ]
  },
  {
   "cell_type": "code",
   "execution_count": 20,
   "metadata": {
    "collapsed": false
   },
   "outputs": [
    {
     "data": {
      "text/html": [
       "0.0286"
      ],
      "text/latex": [
       "0.0286"
      ],
      "text/markdown": [
       "0.0286"
      ],
      "text/plain": [
       "[1] 0.0286"
      ]
     },
     "execution_count": 20,
     "metadata": {},
     "output_type": "execute_result"
    }
   ],
   "source": [
    "trainData = sample(dim(Default)[1], dim(Default)[1]/2)\n",
    "testData = Default[-trainData, ]\n",
    "logMod = glm(default ~ income + balance + student, data = Default, family = binomial, subset = trainData)\n",
    "logPred = rep(\"No\", dim(Default)[1]/2)\n",
    "logProbs = predict(logMod, testData, type = \"response\")\n",
    "logPred[logProbs > 0.5] = \"Yes\"\n",
    "mean(logPred != testData$default)"
   ]
  },
  {
   "cell_type": "markdown",
   "metadata": {},
   "source": [
    "This doesnt appear to yield a noticeable difference in validation."
   ]
  },
  {
   "cell_type": "markdown",
   "metadata": {},
   "source": [
    "### 6.8 Problem 1"
   ]
  },
  {
   "cell_type": "markdown",
   "metadata": {},
   "source": [
    "#### a."
   ]
  },
  {
   "cell_type": "markdown",
   "metadata": {},
   "source": [
    "best subset because less dependency of which predictor is picked first"
   ]
  },
  {
   "cell_type": "markdown",
   "metadata": {},
   "source": [
    "#### b."
   ]
  },
  {
   "cell_type": "markdown",
   "metadata": {},
   "source": [
    "Best subset ebcause it considers more models"
   ]
  },
  {
   "cell_type": "markdown",
   "metadata": {},
   "source": [
    "#### c. "
   ]
  },
  {
   "cell_type": "markdown",
   "metadata": {},
   "source": [
    "true, true, false, false ,false"
   ]
  },
  {
   "cell_type": "markdown",
   "metadata": {},
   "source": [
    "### 6.8 Problem 8"
   ]
  },
  {
   "cell_type": "markdown",
   "metadata": {},
   "source": [
    "#### a. "
   ]
  },
  {
   "cell_type": "code",
   "execution_count": 5,
   "metadata": {
    "collapsed": true
   },
   "outputs": [],
   "source": [
    "X = rnorm(100)\n",
    "e = rnorm(100)"
   ]
  },
  {
   "cell_type": "markdown",
   "metadata": {},
   "source": [
    "#### b. "
   ]
  },
  {
   "cell_type": "code",
   "execution_count": 6,
   "metadata": {
    "collapsed": false
   },
   "outputs": [],
   "source": [
    "b0 = 7\n",
    "b1 = 3.2\n",
    "b2 = -2.3\n",
    "b3 = .076\n",
    "Y = b0 + b1 * X + b2 * X^2 + b3 * X^3 + e"
   ]
  },
  {
   "cell_type": "markdown",
   "metadata": {
    "collapsed": true
   },
   "source": [
    "#### c. "
   ]
  },
  {
   "cell_type": "code",
   "execution_count": 7,
   "metadata": {
    "collapsed": false
   },
   "outputs": [
    {
     "data": {
      "text/plain": [
       "Subset selection object\n",
       "Call: regsubsets.formula(y ~ poly(x, 10, raw = T), data = df, nvmax = 10)\n",
       "10 Variables  (and intercept)\n",
       "                       Forced in Forced out\n",
       "poly(x, 10, raw = T)1      FALSE      FALSE\n",
       "poly(x, 10, raw = T)2      FALSE      FALSE\n",
       "poly(x, 10, raw = T)3      FALSE      FALSE\n",
       "poly(x, 10, raw = T)4      FALSE      FALSE\n",
       "poly(x, 10, raw = T)5      FALSE      FALSE\n",
       "poly(x, 10, raw = T)6      FALSE      FALSE\n",
       "poly(x, 10, raw = T)7      FALSE      FALSE\n",
       "poly(x, 10, raw = T)8      FALSE      FALSE\n",
       "poly(x, 10, raw = T)9      FALSE      FALSE\n",
       "poly(x, 10, raw = T)10     FALSE      FALSE\n",
       "1 subsets of each size up to 10\n",
       "Selection Algorithm: exhaustive\n",
       "          poly(x, 10, raw = T)1 poly(x, 10, raw = T)2 poly(x, 10, raw = T)3\n",
       "1  ( 1 )  \" \"                   \"*\"                   \" \"                  \n",
       "2  ( 1 )  \"*\"                   \"*\"                   \" \"                  \n",
       "3  ( 1 )  \"*\"                   \"*\"                   \"*\"                  \n",
       "4  ( 1 )  \"*\"                   \"*\"                   \" \"                  \n",
       "5  ( 1 )  \"*\"                   \"*\"                   \"*\"                  \n",
       "6  ( 1 )  \"*\"                   \"*\"                   \" \"                  \n",
       "7  ( 1 )  \"*\"                   \"*\"                   \" \"                  \n",
       "8  ( 1 )  \"*\"                   \"*\"                   \" \"                  \n",
       "9  ( 1 )  \"*\"                   \"*\"                   \"*\"                  \n",
       "10  ( 1 ) \"*\"                   \"*\"                   \"*\"                  \n",
       "          poly(x, 10, raw = T)4 poly(x, 10, raw = T)5 poly(x, 10, raw = T)6\n",
       "1  ( 1 )  \" \"                   \" \"                   \" \"                  \n",
       "2  ( 1 )  \" \"                   \" \"                   \" \"                  \n",
       "3  ( 1 )  \" \"                   \" \"                   \" \"                  \n",
       "4  ( 1 )  \" \"                   \" \"                   \" \"                  \n",
       "5  ( 1 )  \" \"                   \"*\"                   \" \"                  \n",
       "6  ( 1 )  \" \"                   \"*\"                   \" \"                  \n",
       "7  ( 1 )  \" \"                   \"*\"                   \" \"                  \n",
       "8  ( 1 )  \" \"                   \"*\"                   \"*\"                  \n",
       "9  ( 1 )  \" \"                   \"*\"                   \"*\"                  \n",
       "10  ( 1 ) \"*\"                   \"*\"                   \"*\"                  \n",
       "          poly(x, 10, raw = T)7 poly(x, 10, raw = T)8 poly(x, 10, raw = T)9\n",
       "1  ( 1 )  \" \"                   \" \"                   \" \"                  \n",
       "2  ( 1 )  \" \"                   \" \"                   \" \"                  \n",
       "3  ( 1 )  \" \"                   \" \"                   \" \"                  \n",
       "4  ( 1 )  \" \"                   \"*\"                   \" \"                  \n",
       "5  ( 1 )  \"*\"                   \" \"                   \" \"                  \n",
       "6  ( 1 )  \"*\"                   \" \"                   \"*\"                  \n",
       "7  ( 1 )  \"*\"                   \"*\"                   \"*\"                  \n",
       "8  ( 1 )  \"*\"                   \"*\"                   \"*\"                  \n",
       "9  ( 1 )  \"*\"                   \"*\"                   \"*\"                  \n",
       "10  ( 1 ) \"*\"                   \"*\"                   \"*\"                  \n",
       "          poly(x, 10, raw = T)10\n",
       "1  ( 1 )  \" \"                   \n",
       "2  ( 1 )  \" \"                   \n",
       "3  ( 1 )  \" \"                   \n",
       "4  ( 1 )  \"*\"                   \n",
       "5  ( 1 )  \" \"                   \n",
       "6  ( 1 )  \"*\"                   \n",
       "7  ( 1 )  \"*\"                   \n",
       "8  ( 1 )  \"*\"                   \n",
       "9  ( 1 )  \"*\"                   \n",
       "10  ( 1 ) \"*\"                   "
      ]
     },
     "execution_count": 7,
     "metadata": {},
     "output_type": "execute_result"
    }
   ],
   "source": [
    "library(leaps)\n",
    "df = data.frame(y = Y, x = X)\n",
    "rgs = regsubsets(y ~ poly(x, 10, raw = T), data = df, nvmax = 10)\n",
    "summary(rgs)"
   ]
  },
  {
   "cell_type": "code",
   "execution_count": 8,
   "metadata": {
    "collapsed": true
   },
   "outputs": [],
   "source": [
    "res = summary(rgs)"
   ]
  },
  {
   "cell_type": "code",
   "execution_count": 9,
   "metadata": {
    "collapsed": false
   },
   "outputs": [
    {
     "data": {
      "text/html": [
       "6"
      ],
      "text/latex": [
       "6"
      ],
      "text/markdown": [
       "6"
      ],
      "text/plain": [
       "[1] 6"
      ]
     },
     "execution_count": 9,
     "metadata": {},
     "output_type": "execute_result"
    }
   ],
   "source": [
    "which.min(res$cp)"
   ]
  },
  {
   "cell_type": "code",
   "execution_count": 11,
   "metadata": {
    "collapsed": false
   },
   "outputs": [
    {
     "data": {
      "text/html": [
       "3"
      ],
      "text/latex": [
       "3"
      ],
      "text/markdown": [
       "3"
      ],
      "text/plain": [
       "[1] 3"
      ]
     },
     "execution_count": 11,
     "metadata": {},
     "output_type": "execute_result"
    }
   ],
   "source": [
    "which.min(res$bic)"
   ]
  },
  {
   "cell_type": "code",
   "execution_count": 12,
   "metadata": {
    "collapsed": false
   },
   "outputs": [
    {
     "data": {
      "text/html": [
       "8"
      ],
      "text/latex": [
       "8"
      ],
      "text/markdown": [
       "8"
      ],
      "text/plain": [
       "[1] 8"
      ]
     },
     "execution_count": 12,
     "metadata": {},
     "output_type": "execute_result"
    }
   ],
   "source": [
    "which.max(res$adjr2)"
   ]
  },
  {
   "cell_type": "code",
   "execution_count": 15,
   "metadata": {
    "collapsed": false
   },
   "outputs": [
    {
     "data": {
      "text/html": [
       "<dl class=dl-horizontal>\n",
       "\t<dt>(Intercept)</dt>\n",
       "\t\t<dd>6.93817154236299</dd>\n",
       "\t<dt>poly(x, 10, raw = T)1</dt>\n",
       "\t\t<dd>3.52334300923938</dd>\n",
       "\t<dt>poly(x, 10, raw = T)2</dt>\n",
       "\t\t<dd>-2.15624756411934</dd>\n",
       "\t<dt>poly(x, 10, raw = T)5</dt>\n",
       "\t\t<dd>-0.400906228306768</dd>\n",
       "\t<dt>poly(x, 10, raw = T)7</dt>\n",
       "\t\t<dd>0.14424590849229</dd>\n",
       "\t<dt>poly(x, 10, raw = T)9</dt>\n",
       "\t\t<dd>-0.0112349967758927</dd>\n",
       "\t<dt>poly(x, 10, raw = T)10</dt>\n",
       "\t\t<dd>0.000379575650594062</dd>\n",
       "</dl>\n"
      ],
      "text/latex": [
       "\\begin{description*}\n",
       "\\item[(Intercept)] 6.93817154236299\n",
       "\\item[poly(x, 10, raw = T)1] 3.52334300923938\n",
       "\\item[poly(x, 10, raw = T)2] -2.15624756411934\n",
       "\\item[poly(x, 10, raw = T)5] -0.400906228306768\n",
       "\\item[poly(x, 10, raw = T)7] 0.14424590849229\n",
       "\\item[poly(x, 10, raw = T)9] -0.0112349967758927\n",
       "\\item[poly(x, 10, raw = T)10] 0.000379575650594062\n",
       "\\end{description*}\n"
      ],
      "text/markdown": [
       "(Intercept)\n",
       ":   6.93817154236299poly(x, 10, raw = T)1\n",
       ":   3.52334300923938poly(x, 10, raw = T)2\n",
       ":   -2.15624756411934poly(x, 10, raw = T)5\n",
       ":   -0.400906228306768poly(x, 10, raw = T)7\n",
       ":   0.14424590849229poly(x, 10, raw = T)9\n",
       ":   -0.0112349967758927poly(x, 10, raw = T)10\n",
       ":   0.000379575650594062\n",
       "\n"
      ],
      "text/plain": [
       "           (Intercept)  poly(x, 10, raw = T)1  poly(x, 10, raw = T)2 \n",
       "          6.9381715424           3.5233430092          -2.1562475641 \n",
       " poly(x, 10, raw = T)5  poly(x, 10, raw = T)7  poly(x, 10, raw = T)9 \n",
       "         -0.4009062283           0.1442459085          -0.0112349968 \n",
       "poly(x, 10, raw = T)10 \n",
       "          0.0003795757 "
      ]
     },
     "execution_count": 15,
     "metadata": {},
     "output_type": "execute_result"
    }
   ],
   "source": [
    "coefficients(rgs, id = 6)"
   ]
  },
  {
   "cell_type": "code",
   "execution_count": 16,
   "metadata": {
    "collapsed": false
   },
   "outputs": [
    {
     "data": {
      "text/html": [
       "<dl class=dl-horizontal>\n",
       "\t<dt>(Intercept)</dt>\n",
       "\t\t<dd>7.08576031344354</dd>\n",
       "\t<dt>poly(x, 10, raw = T)1</dt>\n",
       "\t\t<dd>3.08996760980258</dd>\n",
       "\t<dt>poly(x, 10, raw = T)2</dt>\n",
       "\t\t<dd>-2.33858661111234</dd>\n",
       "\t<dt>poly(x, 10, raw = T)3</dt>\n",
       "\t\t<dd>0.0848164909372136</dd>\n",
       "</dl>\n"
      ],
      "text/latex": [
       "\\begin{description*}\n",
       "\\item[(Intercept)] 7.08576031344354\n",
       "\\item[poly(x, 10, raw = T)1] 3.08996760980258\n",
       "\\item[poly(x, 10, raw = T)2] -2.33858661111234\n",
       "\\item[poly(x, 10, raw = T)3] 0.0848164909372136\n",
       "\\end{description*}\n"
      ],
      "text/markdown": [
       "(Intercept)\n",
       ":   7.08576031344354poly(x, 10, raw = T)1\n",
       ":   3.08996760980258poly(x, 10, raw = T)2\n",
       ":   -2.33858661111234poly(x, 10, raw = T)3\n",
       ":   0.0848164909372136\n",
       "\n"
      ],
      "text/plain": [
       "          (Intercept) poly(x, 10, raw = T)1 poly(x, 10, raw = T)2 \n",
       "           7.08576031            3.08996761           -2.33858661 \n",
       "poly(x, 10, raw = T)3 \n",
       "           0.08481649 "
      ]
     },
     "execution_count": 16,
     "metadata": {},
     "output_type": "execute_result"
    }
   ],
   "source": [
    "coefficients(rgs, id = 3)"
   ]
  },
  {
   "cell_type": "code",
   "execution_count": 17,
   "metadata": {
    "collapsed": false
   },
   "outputs": [
    {
     "data": {
      "text/html": [
       "<dl class=dl-horizontal>\n",
       "\t<dt>(Intercept)</dt>\n",
       "\t\t<dd>7.03230903706649</dd>\n",
       "\t<dt>poly(x, 10, raw = T)1</dt>\n",
       "\t\t<dd>3.49976809898655</dd>\n",
       "\t<dt>poly(x, 10, raw = T)2</dt>\n",
       "\t\t<dd>-2.52733993020713</dd>\n",
       "\t<dt>poly(x, 10, raw = T)5</dt>\n",
       "\t\t<dd>-0.372073851477943</dd>\n",
       "\t<dt>poly(x, 10, raw = T)6</dt>\n",
       "\t\t<dd>0.216053768688119</dd>\n",
       "\t<dt>poly(x, 10, raw = T)7</dt>\n",
       "\t\t<dd>0.136451325912757</dd>\n",
       "\t<dt>poly(x, 10, raw = T)8</dt>\n",
       "\t\t<dd>-0.0692130075306593</dd>\n",
       "\t<dt>poly(x, 10, raw = T)9</dt>\n",
       "\t\t<dd>-0.0122875349333344</dd>\n",
       "\t<dt>poly(x, 10, raw = T)10</dt>\n",
       "\t\t<dd>0.00545683657372161</dd>\n",
       "</dl>\n"
      ],
      "text/latex": [
       "\\begin{description*}\n",
       "\\item[(Intercept)] 7.03230903706649\n",
       "\\item[poly(x, 10, raw = T)1] 3.49976809898655\n",
       "\\item[poly(x, 10, raw = T)2] -2.52733993020713\n",
       "\\item[poly(x, 10, raw = T)5] -0.372073851477943\n",
       "\\item[poly(x, 10, raw = T)6] 0.216053768688119\n",
       "\\item[poly(x, 10, raw = T)7] 0.136451325912757\n",
       "\\item[poly(x, 10, raw = T)8] -0.0692130075306593\n",
       "\\item[poly(x, 10, raw = T)9] -0.0122875349333344\n",
       "\\item[poly(x, 10, raw = T)10] 0.00545683657372161\n",
       "\\end{description*}\n"
      ],
      "text/markdown": [
       "(Intercept)\n",
       ":   7.03230903706649poly(x, 10, raw = T)1\n",
       ":   3.49976809898655poly(x, 10, raw = T)2\n",
       ":   -2.52733993020713poly(x, 10, raw = T)5\n",
       ":   -0.372073851477943poly(x, 10, raw = T)6\n",
       ":   0.216053768688119poly(x, 10, raw = T)7\n",
       ":   0.136451325912757poly(x, 10, raw = T)8\n",
       ":   -0.0692130075306593poly(x, 10, raw = T)9\n",
       ":   -0.0122875349333344poly(x, 10, raw = T)10\n",
       ":   0.00545683657372161\n",
       "\n"
      ],
      "text/plain": [
       "           (Intercept)  poly(x, 10, raw = T)1  poly(x, 10, raw = T)2 \n",
       "           7.032309037            3.499768099           -2.527339930 \n",
       " poly(x, 10, raw = T)5  poly(x, 10, raw = T)6  poly(x, 10, raw = T)7 \n",
       "          -0.372073851            0.216053769            0.136451326 \n",
       " poly(x, 10, raw = T)8  poly(x, 10, raw = T)9 poly(x, 10, raw = T)10 \n",
       "          -0.069213008           -0.012287535            0.005456837 "
      ]
     },
     "execution_count": 17,
     "metadata": {},
     "output_type": "execute_result"
    }
   ],
   "source": [
    "coefficients(rgs, id = 8)"
   ]
  },
  {
   "cell_type": "markdown",
   "metadata": {},
   "source": [
    "#### d. "
   ]
  },
  {
   "cell_type": "code",
   "execution_count": 18,
   "metadata": {
    "collapsed": false
   },
   "outputs": [
    {
     "data": {
      "text/html": [
       "9"
      ],
      "text/latex": [
       "9"
      ],
      "text/markdown": [
       "9"
      ],
      "text/plain": [
       "[1] 9"
      ]
     },
     "execution_count": 18,
     "metadata": {},
     "output_type": "execute_result"
    }
   ],
   "source": [
    "rgsf = regsubsets(y ~ poly(x, 10, raw = T), data = df, nvmax = 10, \n",
    "    method = \"forward\")\n",
    "rgsb = regsubsets(y ~ poly(x, 10, raw = T), data = df, nvmax = 10, \n",
    "    method = \"backward\")\n",
    "fsum = summary(rgsf)\n",
    "bsum = summary(rgsb)\n",
    "which.min(fsum$cp)"
   ]
  },
  {
   "cell_type": "code",
   "execution_count": 19,
   "metadata": {
    "collapsed": false
   },
   "outputs": [
    {
     "data": {
      "text/html": [
       "6"
      ],
      "text/latex": [
       "6"
      ],
      "text/markdown": [
       "6"
      ],
      "text/plain": [
       "[1] 6"
      ]
     },
     "execution_count": 19,
     "metadata": {},
     "output_type": "execute_result"
    }
   ],
   "source": [
    "which.min(bsum$cp)"
   ]
  },
  {
   "cell_type": "code",
   "execution_count": 20,
   "metadata": {
    "collapsed": false
   },
   "outputs": [
    {
     "data": {
      "text/html": [
       "3"
      ],
      "text/latex": [
       "3"
      ],
      "text/markdown": [
       "3"
      ],
      "text/plain": [
       "[1] 3"
      ]
     },
     "execution_count": 20,
     "metadata": {},
     "output_type": "execute_result"
    }
   ],
   "source": [
    "which.min(fsum$bic)"
   ]
  },
  {
   "cell_type": "code",
   "execution_count": 21,
   "metadata": {
    "collapsed": false
   },
   "outputs": [
    {
     "data": {
      "text/html": [
       "3"
      ],
      "text/latex": [
       "3"
      ],
      "text/markdown": [
       "3"
      ],
      "text/plain": [
       "[1] 3"
      ]
     },
     "execution_count": 21,
     "metadata": {},
     "output_type": "execute_result"
    }
   ],
   "source": [
    "which.min(bsum$bic)"
   ]
  },
  {
   "cell_type": "code",
   "execution_count": 22,
   "metadata": {
    "collapsed": false
   },
   "outputs": [
    {
     "data": {
      "text/html": [
       "9"
      ],
      "text/latex": [
       "9"
      ],
      "text/markdown": [
       "9"
      ],
      "text/plain": [
       "[1] 9"
      ]
     },
     "execution_count": 22,
     "metadata": {},
     "output_type": "execute_result"
    }
   ],
   "source": [
    "which.max(fsum$adjr2)"
   ]
  },
  {
   "cell_type": "code",
   "execution_count": 23,
   "metadata": {
    "collapsed": false
   },
   "outputs": [
    {
     "data": {
      "text/html": [
       "8"
      ],
      "text/latex": [
       "8"
      ],
      "text/markdown": [
       "8"
      ],
      "text/plain": [
       "[1] 8"
      ]
     },
     "execution_count": 23,
     "metadata": {},
     "output_type": "execute_result"
    }
   ],
   "source": [
    "which.max(bsum$adjr2)"
   ]
  },
  {
   "cell_type": "code",
   "execution_count": null,
   "metadata": {
    "collapsed": true
   },
   "outputs": [],
   "source": []
  }
 ],
 "metadata": {
  "kernelspec": {
   "display_name": "R",
   "language": "R",
   "name": "ir"
  },
  "language_info": {
   "codemirror_mode": "r",
   "file_extension": ".r",
   "mimetype": "text/x-r-source",
   "name": "R",
   "pygments_lexer": "r",
   "version": "3.2.3"
  }
 },
 "nbformat": 4,
 "nbformat_minor": 0
}
