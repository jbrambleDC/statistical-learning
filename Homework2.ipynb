{
 "cells": [
  {
   "cell_type": "markdown",
   "metadata": {},
   "source": [
    "### Jordan Bramble\n",
    "### Statistical Learning\n",
    "### Homework 2"
   ]
  },
  {
   "cell_type": "markdown",
   "metadata": {},
   "source": [
    "## 3.7 Problem 3"
   ]
  },
  {
   "cell_type": "markdown",
   "metadata": {},
   "source": [
    "##### a.\n",
    "#### Y = 50 + 20(gpa) + 0.07(iq) + 35(gender) + 0.01(gpa x iq) - 10 (gpa x gender)\n",
    "This is our Regression Equation "
   ]
  },
  {
   "cell_type": "markdown",
   "metadata": {},
   "source": [
    "notice that there is some interaction between GPA and gender. If GPA and IQ are equal for men and women then the differnce in salary is:\n",
    "\n",
    "35 - 10(GPA). When GPA is higher than 3.5 Men make more on average. so the answer is iii.\n",
    "    "
   ]
  },
  {
   "cell_type": "markdown",
   "metadata": {},
   "source": [
    "##### b. "
   ]
  },
  {
   "cell_type": "markdown",
   "metadata": {},
   "source": [
    "Y = 50 + 20(4) + .07(110) + 35 + .01(4.0x110) - 10(4.0) = 137.1. I assume this to mean 137,000 per year. I certainly wish my starting salary was this high!!"
   ]
  },
  {
   "cell_type": "markdown",
   "metadata": {},
   "source": [
    "##### c."
   ]
  },
  {
   "cell_type": "markdown",
   "metadata": {},
   "source": [
    "False, We would need to conduct a hypothesis test and evaluate the p-value on the regression coefficient to determine statistical significance."
   ]
  },
  {
   "cell_type": "markdown",
   "metadata": {},
   "source": [
    "## 3.7 Problem 4"
   ]
  },
  {
   "cell_type": "markdown",
   "metadata": {},
   "source": [
    "a. We could expect the cubic regression to have a lower RSS because it can make a tighter fit to data with a wider epsilon"
   ]
  },
  {
   "cell_type": "markdown",
   "metadata": {},
   "source": [
    "b. This would be the opposite of A, we would expect cubic regression to have a higher RSS because it could be susceptible to overfitting."
   ]
  },
  {
   "cell_type": "markdown",
   "metadata": {},
   "source": [
    "c. Cubic regression will have lower RSS. Since cubic regression allows for higher flexibility, it will always model better in training no matter what the actual relationship is"
   ]
  },
  {
   "cell_type": "markdown",
   "metadata": {},
   "source": [
    "d. This question is harder to tell given the problem statement. Since we dont actually know how far the relationship is from linear. If it is more linear than cubic we could expect the linear regression to have lower RSS. OTherwsie we should expect the cubic regression to be lower."
   ]
  },
  {
   "cell_type": "markdown",
   "metadata": {},
   "source": [
    "## 3.7 Problem 8"
   ]
  },
  {
   "cell_type": "code",
   "execution_count": null,
   "metadata": {
    "collapsed": true
   },
   "outputs": [],
   "source": []
  }
 ],
 "metadata": {
  "kernelspec": {
   "display_name": "R",
   "language": "R",
   "name": "ir"
  },
  "language_info": {
   "codemirror_mode": "r",
   "file_extension": ".r",
   "mimetype": "text/x-r-source",
   "name": "R",
   "pygments_lexer": "r",
   "version": "3.2.3"
  }
 },
 "nbformat": 4,
 "nbformat_minor": 0
}
